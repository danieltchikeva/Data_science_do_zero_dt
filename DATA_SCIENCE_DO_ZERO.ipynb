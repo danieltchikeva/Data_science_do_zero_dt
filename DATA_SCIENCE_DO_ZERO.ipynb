{
  "nbformat": 4,
  "nbformat_minor": 0,
  "metadata": {
    "colab": {
      "provenance": [],
      "authorship_tag": "ABX9TyNdV9yLE+m8gs51oF+kCQZK",
      "include_colab_link": true
    },
    "kernelspec": {
      "name": "python3",
      "display_name": "Python 3"
    },
    "language_info": {
      "name": "python"
    }
  },
  "cells": [
    {
      "cell_type": "markdown",
      "metadata": {
        "id": "view-in-github",
        "colab_type": "text"
      },
      "source": [
        "<a href=\"https://colab.research.google.com/github/danieltchikeva/Data_science_do_zero_dt/blob/main/DATA_SCIENCE_DO_ZERO.ipynb\" target=\"_parent\"><img src=\"https://colab.research.google.com/assets/colab-badge.svg\" alt=\"Open In Colab\"/></a>"
      ]
    },
    {
      "cell_type": "markdown",
      "source": [
        "# CAPÍTULO 5= ESTATÍSTICA\n",
        "Do livro Data Science do zero: noções fundamentais em Python.\n",
        "Autor- JOEL GRUS"
      ],
      "metadata": {
        "id": "D86VWdzMD286"
      }
    },
    {
      "cell_type": "markdown",
      "source": [
        "**Descrevendo um conjunto de dados**"
      ],
      "metadata": {
        "id": "oyIjPU9-KhAh"
      }
    },
    {
      "cell_type": "code",
      "source": [
        "#Contagem de amigos em um HISTOGRAMA\n",
        "\n",
        "from collections import Counter\n",
        "import matplotlib.pyplot as plt"
      ],
      "metadata": {
        "id": "BEofQJY7Eqwn"
      },
      "execution_count": null,
      "outputs": []
    },
    {
      "cell_type": "code",
      "source": [
        "num_friends = [100, 49, 41, 40, 25]\n",
        "num_friends"
      ],
      "metadata": {
        "colab": {
          "base_uri": "https://localhost:8080/"
        },
        "id": "7Ieiqb3bIEHz",
        "outputId": "2b8d6c2a-fd48-4126-ecb9-0f928791d3c0"
      },
      "execution_count": null,
      "outputs": [
        {
          "output_type": "execute_result",
          "data": {
            "text/plain": [
              "[100, 49, 41, 40, 25]"
            ]
          },
          "metadata": {},
          "execution_count": 12
        }
      ]
    },
    {
      "cell_type": "code",
      "source": [
        "friend_counts = Counter(num_friends)\n",
        "xs = range(101) # o maior valor é 100\n",
        "ys = [friend_counts[x] for x in xs]   # a altura indica o nº de amigos\n",
        "plt.bar(xs, ys)\n",
        "plt.axis([0, 101, 0, 25])\n",
        "plt.title(\"Histograma das contagens de amigos\")\n",
        "plt.xlabel(\"nº de amigos\")\n",
        "plt.ylabel(\"nº de pessoas\")\n",
        "plt.show()"
      ],
      "metadata": {
        "colab": {
          "base_uri": "https://localhost:8080/",
          "height": 472
        },
        "id": "OpUZQFSsFwbH",
        "outputId": "b1fdf0f6-1415-4919-9e32-5d3c106e74c7"
      },
      "execution_count": null,
      "outputs": [
        {
          "output_type": "display_data",
          "data": {
            "text/plain": [
              "<Figure size 640x480 with 1 Axes>"
            ],
            "image/png": "[encoded data removed]"
          },
          "metadata": {}
        }
      ]
    },
    {
      "cell_type": "markdown",
      "source": [
        "**Tendências Centrais**"
      ],
      "metadata": {
        "id": "UHrA6m8wKPmw"
      }
    },
    {
      "cell_type": "code",
      "source": [
        "# MÉDIA\n",
        "\n",
        "def mean(xs: list[float]) -> float:\n",
        "  return sum(xs) / len(xs)\n",
        "mean(num_friends)"
      ],
      "metadata": {
        "colab": {
          "base_uri": "https://localhost:8080/"
        },
        "id": "FvBRXt6KKaku",
        "outputId": "484b22d5-79ab-4b2f-eb09-6cd333dd7e57"
      },
      "execution_count": null,
      "outputs": [
        {
          "output_type": "execute_result",
          "data": {
            "text/plain": [
              "51.0"
            ]
          },
          "metadata": {},
          "execution_count": 15
        }
      ]
    },
    {
      "cell_type": "code",
      "source": [
        "# MEDIANA- corresponde ao valor do meio ou à média dos dois valores do meio\n",
        "def _median_odd(xs: list[float]) -> float:\n",
        "  \"\"\"Se len(xs) for impar, a mediana será o elemento do meio\"\"\"\n",
        "  return sorted(xs)[len(xs) // 2]"
      ],
      "metadata": {
        "id": "1slccBXsNLqh"
      },
      "execution_count": null,
      "outputs": []
    },
    {
      "cell_type": "code",
      "source": [
        "def _median_even(xs: list[float]) -> float:\n",
        "  \"\"\"Se len(xs) for par, ela será a média dos dois elementos do meio\"\"\"\n",
        "  sorted_xs = sorted(xs)\n",
        "  hi_midpoint = len(xs) // 2\n",
        "  return (sorted_xs[hi_midpoint - 1] + sorted_xs[hi_midpoint]) / 2"
      ],
      "metadata": {
        "id": "yvWESOz8VnRi"
      },
      "execution_count": null,
      "outputs": []
    },
    {
      "cell_type": "code",
      "source": [
        "def median(v: list[float]) -> float:\n",
        "  \"\"\"Encontra o valor do meio em v\"\"\"\n",
        "  return _median_even(v) if len(v) % 2 == 0 else _median_odd(v)\n",
        "assert median([1, 10, 2, 9, 5]) == 5\n",
        "assert median([1, 9, 2, 10]) == (2 + 9) / 2\n",
        "\n",
        "median(num_friends)"
      ],
      "metadata": {
        "colab": {
          "base_uri": "https://localhost:8080/"
        },
        "id": "equVQ7HOVoe_",
        "outputId": "326d1fba-eeb1-442d-ba39-9ffc7f1facb5"
      },
      "execution_count": null,
      "outputs": [
        {
          "output_type": "execute_result",
          "data": {
            "text/plain": [
              "41"
            ]
          },
          "metadata": {},
          "execution_count": 19
        }
      ]
    },
    {
      "cell_type": "code",
      "source": [
        "# QUANTIL- um valor que separa uma determinada porcentagem dos dados\n",
        "\n",
        "def quantile(xs: list[float], p: float) -> float:\n",
        "  \"\"\"Retorna o valor pth-percentile em x\"\"\"\n",
        "  p_index = int(p * len(xs))\n",
        "  return sorted(xs)[p_index]\n",
        "\n",
        "assert quantile(num_friends, 0.10) == 1\n",
        "assert quantile(num_friends, 0.25) == 3\n",
        "assert quantile(num_friends, 0.75) == 9\n",
        "assert quantile(num_friends, 0.90) == 13"
      ],
      "metadata": {
        "id": "Ye2sIZX9Zmp9"
      },
      "execution_count": null,
      "outputs": []
    },
    {
      "cell_type": "code",
      "source": [
        "# MODA- apresenta os valores mais frequentes\n",
        "\n",
        "def mode(x: list[float]) -> list[float]:\n",
        "  \"\"\"Retorna uma lista, pois pode haver mais de uma moda\"\"\"\n",
        "  counts = Counter(x)\n",
        "  max_count = max(counts.values())\n",
        "  return [x_i for x_i, count in counts.items()\n",
        "            if count == max_count]\n",
        "assert set(mode(num_friends)) == {1, 6}"
      ],
      "metadata": {
        "id": "j-AHWrHudEu9"
      },
      "execution_count": null,
      "outputs": []
    }
  ]
}